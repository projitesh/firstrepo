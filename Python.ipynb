{
 "cells": [
  {
   "cell_type": "code",
   "execution_count": 2,
   "id": "24a01268-8e9e-4f1b-832e-abafee4b2da9",
   "metadata": {},
   "outputs": [
    {
     "name": "stdin",
     "output_type": "stream",
     "text": [
      "Enter number of elements :  3\n",
      "Enter 1 number:  1\n",
      "Enter 2 number:  2\n",
      "Enter 3 number:  3\n"
     ]
    },
    {
     "name": "stdout",
     "output_type": "stream",
     "text": [
      "[1, 2, 3]\n"
     ]
    }
   ],
   "source": [
    "# creating a list\n",
    "lst = []\n",
    "\n",
    "# input\n",
    "n = int(input(\"Enter number of elements : \"))\n",
    "\n",
    "# iterating till the range\n",
    "for i in range(0, n):\n",
    "    ele = int(input(f\"Enter {i+1} number: \"))\n",
    "    # adding the element\n",
    "    lst.append(ele)\n",
    "\n",
    "print(lst)"
   ]
  },
  {
   "cell_type": "code",
   "execution_count": 3,
   "id": "7cc67837-beac-4956-9503-a36f08657b0b",
   "metadata": {},
   "outputs": [
    {
     "name": "stdin",
     "output_type": "stream",
     "text": [
      "Enter a list of numbers (comma-separated):  3\n"
     ]
    },
    {
     "name": "stdout",
     "output_type": "stream",
     "text": [
      "Sum: 3.0\n",
      "Average: 3.00\n",
      "Minimum: 3.0\n",
      "Maximum: 3.0\n",
      "Cumulative Sum: [3.0]\n"
     ]
    }
   ],
   "source": [
    "def compute_stats(input_list):\n",
    "    \"\"\"\n",
    "    Computes sum, average, minimum, maximum, and cumulative sum of a given list.\n",
    "\n",
    "    Args:\n",
    "        input_list (list): List of numeric values.\n",
    "\n",
    "    Returns:\n",
    "        tuple: (sum, average, min, max, cumulative_sum)\n",
    "    \"\"\"\n",
    "    if not input_list:\n",
    "        return 0, 0, None, None, []\n",
    "\n",
    "    total_sum = sum(input_list)\n",
    "    avg = total_sum / len(input_list)\n",
    "    min_val = min(input_list)\n",
    "    max_val = max(input_list)\n",
    "\n",
    "    cumulative_sum = [sum(input_list[:i + 1]) for i in range(len(input_list))]\n",
    "\n",
    "    return total_sum, avg, min_val, max_val, cumulative_sum\n",
    "\n",
    "def user_input():\n",
    "    \"\"\"\n",
    "    Takes input from the user and computes statistics using the compute_stats function.\n",
    "    \"\"\"\n",
    "    try:\n",
    "        input_str = input(\"Enter a list of numbers (comma-separated): \")\n",
    "        input_list = [float(num) for num in input_str.split(\",\")]\n",
    "        total_sum, avg, min_val, max_val, cumulative_sum = compute_stats(input_list)\n",
    "\n",
    "        print(f\"Sum: {total_sum}\")\n",
    "        print(f\"Average: {avg:.2f}\")\n",
    "        print(f\"Minimum: {min_val}\")\n",
    "        print(f\"Maximum: {max_val}\")\n",
    "        print(f\"Cumulative Sum: {cumulative_sum}\")\n",
    "\n",
    "    except ValueError:\n",
    "        print(\"Invalid input. Please enter a valid list of numbers.\")\n",
    "\n",
    "# Call the user_input function to start the process\n",
    "user_input()\n"
   ]
  },
  {
   "cell_type": "code",
   "execution_count": null,
   "id": "ddecb074-34bc-407a-a331-1c105296386e",
   "metadata": {},
   "outputs": [],
   "source": []
  }
 ],
 "metadata": {
  "kernelspec": {
   "display_name": "Python 3 (ipykernel)",
   "language": "python",
   "name": "python3"
  },
  "language_info": {
   "codemirror_mode": {
    "name": "ipython",
    "version": 3
   },
   "file_extension": ".py",
   "mimetype": "text/x-python",
   "name": "python",
   "nbconvert_exporter": "python",
   "pygments_lexer": "ipython3",
   "version": "3.12.5"
  }
 },
 "nbformat": 4,
 "nbformat_minor": 5
}
